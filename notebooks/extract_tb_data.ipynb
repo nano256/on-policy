{
 "cells": [
  {
   "cell_type": "code",
   "execution_count": 10,
   "metadata": {},
   "outputs": [],
   "source": [
    "from packaging import version\n",
    "\n",
    "import pandas as pd\n",
    "from matplotlib import pyplot as plt\n",
    "import seaborn as sns\n",
    "from scipy import stats\n",
    "import tensorboard as tb\n",
    "\n",
    "from tensorboard.backend.event_processing import event_accumulator\n",
    "from pathlib import Path"
   ]
  },
  {
   "cell_type": "code",
   "execution_count": 2,
   "metadata": {},
   "outputs": [
    {
     "name": "stdout",
     "output_type": "stream",
     "text": [
      "TensorBoard version:  2.11.2\n"
     ]
    }
   ],
   "source": [
    "major_ver, minor_ver, _ = version.parse(tb.__version__).release\n",
    "assert major_ver >= 2 and minor_ver >= 3, \\\n",
    "    \"This notebook requires TensorBoard 2.3 or later.\"\n",
    "print(\"TensorBoard version: \", tb.__version__)\n"
   ]
  },
  {
   "cell_type": "code",
   "execution_count": 27,
   "metadata": {},
   "outputs": [],
   "source": [
    "def get_all_tb_files(path, prefix='events.out.tfevents.'):\n",
    "    return list(Path(path).rglob(f\"{prefix}*\"))\n"
   ]
  },
  {
   "cell_type": "code",
   "execution_count": 3,
   "metadata": {},
   "outputs": [],
   "source": [
    "def parse_tensorboard(path, scalars):\n",
    "    \"\"\"returns a dictionary of pandas dataframes for each requested scalar\"\"\"\n",
    "    ea = event_accumulator.EventAccumulator(\n",
    "        path,\n",
    "        size_guidance={event_accumulator.SCALARS: 0},\n",
    "    )\n",
    "    _absorb_print = ea.Reload()\n",
    "    # make sure the scalars are in the event accumulator tags\n",
    "    assert all(\n",
    "        s in ea.Tags()[\"scalars\"] for s in scalars\n",
    "    ), \"some scalars were not found in the event accumulator\"\n",
    "    return {k: pd.DataFrame(ea.Scalars(k)) for k in scalars}"
   ]
  },
  {
   "cell_type": "code",
   "execution_count": 12,
   "metadata": {},
   "outputs": [],
   "source": [
    "log_dir_path = '/home/michel/git/on-policy/onpolicy/scripts/results'\n",
    "scalars =  ['value_loss']\n"
   ]
  },
  {
   "cell_type": "code",
   "execution_count": 30,
   "metadata": {},
   "outputs": [
    {
     "name": "stdout",
     "output_type": "stream",
     "text": [
      "/home/michel/git/on-policy/onpolicy/scripts/results/MPE/simple_spread/crmappo/IS_IPPO_local_seed_1_comm_int_4_commit_coef_0.1/run1/logs/events.out.tfevents.1690123405.michel-XPS\n",
      "/home/michel/git/on-policy/onpolicy/scripts/results/MPE/simple_spread/crmappo/IS_IPPO_local_seed_1_comm_int_4_commit_coef_0.1/run1/logs/wm_obs_pred_pretrain_loss/wm_obs_pred_pretrain_loss/events.out.tfevents.1690123417.michel-XPS\n",
      "/home/michel/git/on-policy/onpolicy/scripts/results/MPE/simple_spread/crmappo/IS_IPPO_local_seed_1_comm_int_4_commit_coef_0.1/run2/logs/events.out.tfevents.1690123441.michel-XPS\n",
      "/home/michel/git/on-policy/onpolicy/scripts/results/MPE/simple_spread/crmappo/IS_IPPO_local_seed_1_comm_int_4_commit_coef_0.1/run2/logs/actor_grad_norm/actor_grad_norm/events.out.tfevents.1690123441.michel-XPS\n",
      "/home/michel/git/on-policy/onpolicy/scripts/results/MPE/simple_spread/crmappo/IS_IPPO_local_seed_1_comm_int_4_commit_coef_0.1/run2/logs/commitment_loss/commitment_loss/events.out.tfevents.1690123441.michel-XPS\n",
      "/home/michel/git/on-policy/onpolicy/scripts/results/MPE/simple_spread/crmappo/IS_IPPO_local_seed_1_comm_int_4_commit_coef_0.1/run2/logs/value_loss/value_loss/events.out.tfevents.1690123441.michel-XPS\n",
      "/home/michel/git/on-policy/onpolicy/scripts/results/MPE/simple_spread/crmappo/IS_IPPO_local_seed_1_comm_int_4_commit_coef_0.1/run2/logs/dist_entropy/dist_entropy/events.out.tfevents.1690123441.michel-XPS\n",
      "/home/michel/git/on-policy/onpolicy/scripts/results/MPE/simple_spread/crmappo/IS_IPPO_local_seed_1_comm_int_4_commit_coef_0.1/run2/logs/agent2/individual_rewards/agent2/individual_rewards/events.out.tfevents.1690123441.michel-XPS\n",
      "/home/michel/git/on-policy/onpolicy/scripts/results/MPE/simple_spread/crmappo/IS_IPPO_local_seed_1_comm_int_4_commit_coef_0.1/run2/logs/critic_grad_norm/critic_grad_norm/events.out.tfevents.1690123441.michel-XPS\n",
      "/home/michel/git/on-policy/onpolicy/scripts/results/MPE/simple_spread/crmappo/IS_IPPO_local_seed_1_comm_int_4_commit_coef_0.1/run2/logs/wm_act_pred_loss/wm_act_pred_loss/events.out.tfevents.1690123441.michel-XPS\n",
      "/home/michel/git/on-policy/onpolicy/scripts/results/MPE/simple_spread/crmappo/IS_IPPO_local_seed_1_comm_int_4_commit_coef_0.1/run2/logs/agent1/individual_rewards/agent1/individual_rewards/events.out.tfevents.1690123441.michel-XPS\n",
      "/home/michel/git/on-policy/onpolicy/scripts/results/MPE/simple_spread/crmappo/IS_IPPO_local_seed_1_comm_int_4_commit_coef_0.1/run2/logs/wm_obs_pred_loss/wm_obs_pred_loss/events.out.tfevents.1690123441.michel-XPS\n",
      "/home/michel/git/on-policy/onpolicy/scripts/results/MPE/simple_spread/crmappo/IS_IPPO_local_seed_1_comm_int_4_commit_coef_0.1/run2/logs/agent0/individual_rewards/agent0/individual_rewards/events.out.tfevents.1690123441.michel-XPS\n",
      "/home/michel/git/on-policy/onpolicy/scripts/results/MPE/simple_spread/crmappo/IS_IPPO_local_seed_1_comm_int_4_commit_coef_0.1/run2/logs/ratio/ratio/events.out.tfevents.1690123441.michel-XPS\n",
      "/home/michel/git/on-policy/onpolicy/scripts/results/MPE/simple_spread/crmappo/IS_IPPO_local_seed_1_comm_int_4_commit_coef_0.1/run2/logs/policy_loss/policy_loss/events.out.tfevents.1690123441.michel-XPS\n",
      "/home/michel/git/on-policy/onpolicy/scripts/results/MPE/simple_spread/crmappo/IS_IPPO_local_seed_1_comm_int_4_commit_coef_0.1/run2/logs/wm_obs_pred_pretrain_loss/wm_obs_pred_pretrain_loss/events.out.tfevents.1690123441.michel-XPS\n",
      "/home/michel/git/on-policy/onpolicy/scripts/results/MPE/simple_spread/crmappo/IS_IPPO_local_seed_1_comm_int_4_commit_coef_0.1/run2/logs/average_episode_rewards/average_episode_rewards/events.out.tfevents.1690123441.michel-XPS\n"
     ]
    }
   ],
   "source": [
    "file_list = list(Path(log_dir_path).rglob(f\"events.out.tfevents.*\"))\n",
    "\n",
    "for file in file_list:\n",
    "    if 'IS_IPPO_local_seed_1_comm_int_4_commit_coef_0.1' in str(file):\n",
    "        print(file)"
   ]
  },
  {
   "cell_type": "code",
   "execution_count": 48,
   "metadata": {},
   "outputs": [
    {
     "name": "stdout",
     "output_type": "stream",
     "text": [
      "/home/michel/git/on-policy/onpolicy/scripts/results/MPE/simple_spread/crmappo/IP_IPPO_local_seed_1_comm_int_4_commit_coef_0.1/run1/logs/policy_loss/policy_loss/events.out.tfevents.1690123359.michel-XPS\n",
      "['policy_loss']\n"
     ]
    },
    {
     "data": {
      "text/plain": [
       "[ScalarEvent(wall_time=1690123359.493435, step=50, value=0.142116978764534),\n",
       " ScalarEvent(wall_time=1690123362.5320258, step=300, value=0.29942071437835693),\n",
       " ScalarEvent(wall_time=1690123365.6023593, step=550, value=0.10950460284948349),\n",
       " ScalarEvent(wall_time=1690123368.690713, step=800, value=0.3686006963253021),\n",
       " ScalarEvent(wall_time=1690123371.7706578, step=1050, value=0.26345473527908325)]"
      ]
     },
     "execution_count": 48,
     "metadata": {},
     "output_type": "execute_result"
    }
   ],
   "source": [
    "idx = -33\n",
    "print(str(file_list[idx]))\n",
    "ea = event_accumulator.EventAccumulator(\n",
    "    str(file_list[idx]),\n",
    "    # size_guidance={event_accumulator.SCALARS: 0},\n",
    ")\n",
    "_absorb_print = ea.Reload()\n",
    "print(ea.Tags()[\"scalars\"])\n",
    "ea.Scalars('policy_loss')\n"
   ]
  },
  {
   "cell_type": "code",
   "execution_count": 34,
   "metadata": {},
   "outputs": [
    {
     "data": {
      "text/plain": [
       "<tensorboard.backend.event_processing.event_accumulator.EventAccumulator at 0x7f5ac8aac8d0>"
      ]
     },
     "execution_count": 34,
     "metadata": {},
     "output_type": "execute_result"
    }
   ],
   "source": [
    "_absorb_print"
   ]
  },
  {
   "cell_type": "code",
   "execution_count": 6,
   "metadata": {},
   "outputs": [],
   "source": [
    "\n",
    "\"\"\"returns a dictionary of pandas dataframes for each requested scalar\"\"\"\n",
    "ea = event_accumulator.EventAccumulator(\n",
    "    log_dir_path,\n",
    "    size_guidance={event_accumulator.SCALARS: 0},\n",
    ")\n",
    "_absorb_print = ea.Reload()\n",
    "# make sure the scalars are in the event accumulator tags\n",
    "# assert all(\n",
    "#     s in ea.Tags()[\"scalars\"] for s in scalars\n",
    "#), \"some scalars were not found in the event accumulator\"\n"
   ]
  },
  {
   "cell_type": "code",
   "execution_count": 8,
   "metadata": {},
   "outputs": [
    {
     "data": {
      "text/plain": [
       "[]"
      ]
     },
     "execution_count": 8,
     "metadata": {},
     "output_type": "execute_result"
    }
   ],
   "source": [
    "ea.Tags()[\"scalars\"]"
   ]
  },
  {
   "cell_type": "code",
   "execution_count": null,
   "metadata": {},
   "outputs": [],
   "source": [
    "\n",
    "tb_data = {k: pd.DataFrame(ea.Scalars(k)) for k in scalars}"
   ]
  }
 ],
 "metadata": {
  "kernelspec": {
   "display_name": "test-ppo",
   "language": "python",
   "name": "python3"
  },
  "language_info": {
   "codemirror_mode": {
    "name": "ipython",
    "version": 3
   },
   "file_extension": ".py",
   "mimetype": "text/x-python",
   "name": "python",
   "nbconvert_exporter": "python",
   "pygments_lexer": "ipython3",
   "version": "3.7.15"
  },
  "orig_nbformat": 4
 },
 "nbformat": 4,
 "nbformat_minor": 2
}
