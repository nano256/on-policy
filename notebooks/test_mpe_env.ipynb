{
 "cells": [
  {
   "cell_type": "code",
   "execution_count": 1,
   "metadata": {},
   "outputs": [],
   "source": [
    "import argparse\n",
    "import numpy as np\n",
    "import torch\n",
    "from torch import nn\n",
    "import torch.nn.functional as F\n",
    "\n",
    "from gym import spaces\n",
    "\n",
    "\n",
    "from onpolicy.algorithms.r_mappo.algorithm.intention_sharing import IntentionSharingModel\n",
    "from onpolicy.envs.env_wrappers import SubprocVecEnv, DummyVecEnv\n",
    "from onpolicy.envs.mpe.MPE_env import MPEEnv\n",
    "from onpolicy.config import get_config"
   ]
  },
  {
   "cell_type": "code",
   "execution_count": 2,
   "metadata": {},
   "outputs": [],
   "source": [
    "def make_train_env(all_args):\n",
    "    def get_env_fn(rank):\n",
    "        def init_env():\n",
    "            if all_args.env_name == \"MPE\":\n",
    "                env = MPEEnv(all_args)\n",
    "            else:\n",
    "                print(\"Can not support the \" + all_args.env_name + \"environment.\")\n",
    "                raise NotImplementedError\n",
    "            env.seed(all_args.seed + rank * 1000)\n",
    "            return env\n",
    "\n",
    "        return init_env\n",
    "\n",
    "    if all_args.n_rollout_threads == 1:\n",
    "        return DummyVecEnv([get_env_fn(0)])\n",
    "    else:\n",
    "        return SubprocVecEnv([get_env_fn(i) for i in range(all_args.n_rollout_threads)])"
   ]
  },
  {
   "cell_type": "code",
   "execution_count": 3,
   "metadata": {},
   "outputs": [],
   "source": [
    "def make_args(args_dict):  \n",
    "    args = argparse.Namespace()\n",
    "    for key, value in args_dict.items():\n",
    "        setattr(args, key, value)\n",
    "    return args"
   ]
  },
  {
   "cell_type": "code",
   "execution_count": 4,
   "metadata": {},
   "outputs": [],
   "source": [
    "args_dict = {\n",
    "        'env_name': \"MPE\",\n",
    "        'use_obs_instead_of_state': False,\n",
    "        'scenario_name': 'simple_spread',\n",
    "        'num_agents': 3,\n",
    "        'num_landmarks': 3, \n",
    "        'n_training_threads': 1,\n",
    "        'n_rollout_threads': 1,\n",
    "        'episode_length': 25,\n",
    "        'use_local_obs': False,\n",
    "        'seed': 1,\n",
    "        'hidden_size': 64,\n",
    "        'recurrent_N': 2,\n",
    "        'gain': 0.01,\n",
    "        'use_orthogonal': True,\n",
    "        'use_policy_active_masks': False,\n",
    "        'use_naive_recurrent_policy': False,\n",
    "        'use_recurrent_policy': False,\n",
    "        'intention_aggregation': 'mean',\n",
    "        'imagined_traj_len': 4,\n",
    "        'communication_interval': 4,\n",
    "        'use_feature_normalization': True,\n",
    "        'use_ReLU': True,\n",
    "        'stacked_frames': 1,\n",
    "        'layer_N': 1,\n",
    "        \n",
    "        }"
   ]
  },
  {
   "cell_type": "code",
   "execution_count": 7,
   "metadata": {},
   "outputs": [],
   "source": [
    "args = make_args(args_dict)\n",
    "envs = make_train_env(args)\n",
    "env = MPEEnv(args)\n"
   ]
  },
  {
   "cell_type": "code",
   "execution_count": 13,
   "metadata": {},
   "outputs": [
    {
     "data": {
      "text/plain": [
       "[Discrete(5), Discrete(5), Discrete(5)]"
      ]
     },
     "execution_count": 13,
     "metadata": {},
     "output_type": "execute_result"
    }
   ],
   "source": [
    "env.action_space"
   ]
  },
  {
   "cell_type": "code",
   "execution_count": 27,
   "metadata": {},
   "outputs": [],
   "source": [
    "one_hot_actions = [np.array([0,0,0,0,1]),np.array([0,0,0,0,1]),np.array([0,0,0,0,1])]\n",
    "actions = np.array([[1], [1], [1]])\n",
    "\n",
    "env.reset()\n",
    "# env.step(one_hot_actions)\n",
    "obs, rews, dones, infos = envs.step(np.array([one_hot_actions]))"
   ]
  },
  {
   "cell_type": "code",
   "execution_count": 31,
   "metadata": {},
   "outputs": [
    {
     "data": {
      "text/plain": [
       "(1, 3)"
      ]
     },
     "execution_count": 31,
     "metadata": {},
     "output_type": "execute_result"
    }
   ],
   "source": [
    "infos.shape"
   ]
  }
 ],
 "metadata": {
  "kernelspec": {
   "display_name": "test-ppo",
   "language": "python",
   "name": "python3"
  },
  "language_info": {
   "codemirror_mode": {
    "name": "ipython",
    "version": 3
   },
   "file_extension": ".py",
   "mimetype": "text/x-python",
   "name": "python",
   "nbconvert_exporter": "python",
   "pygments_lexer": "ipython3",
   "version": "3.7.15"
  },
  "orig_nbformat": 4
 },
 "nbformat": 4,
 "nbformat_minor": 2
}
